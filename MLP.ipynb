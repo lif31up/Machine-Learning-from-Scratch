{
 "cells": [
  {
   "cell_type": "code",
   "execution_count": 1,
   "id": "9c91ec4b-81bf-45e0-b0fe-6261e4441cea",
   "metadata": {
    "tags": []
   },
   "outputs": [],
   "source": [
    "from tensorflow.keras.models import Sequential\n",
    "from tensorflow.keras.layers import Dense, Activation, Dropout\n",
    "from tensorflow.keras.utils import to_categorical, plot_model\n",
    "from tensorflow.keras.datasets import mnist\n",
    "\n",
    "import numpy as np\n",
    "import matplotlib.pyplot as plt"
   ]
  },
  {
   "cell_type": "code",
   "execution_count": 2,
   "id": "621bbb04-e118-4efe-a179-dceaff854a91",
   "metadata": {},
   "outputs": [],
   "source": [
    "# Load Dataset\n",
    "(x_train, y_train), (x_test, y_test) = mnist.load_data()"
   ]
  },
  {
   "cell_type": "code",
   "execution_count": 3,
   "id": "a7c2baa9-1143-4b10-95c3-48c23e0c62ed",
   "metadata": {},
   "outputs": [],
   "source": [
    "# Capture the number of Labels\n",
    "num_labels = len( np.unique(y_train) )"
   ]
  },
  {
   "cell_type": "code",
   "execution_count": 4,
   "id": "7a45d0f9-ac06-4c89-8168-7e6d1111f609",
   "metadata": {},
   "outputs": [],
   "source": [
    "# Convert to One-hot Vector\n",
    "y_train, y_test = to_categorical(y_train), to_categorical(y_test)"
   ]
  },
  {
   "cell_type": "code",
   "execution_count": 5,
   "id": "63d0af9f-c224-4226-9eb2-f1b14507b172",
   "metadata": {},
   "outputs": [],
   "source": [
    "# Image dimension\n",
    "image_size = x_train.shape[1]\n",
    "inpt_size = image_size ** 2\n",
    "\n",
    "# Resize and Normalize\n",
    "x_train = np.reshape(x_train, [-1, inpt_size]).astype('float32') / 255\n",
    "x_test = np.reshape(x_test, [-1, inpt_size]).astype('float32') / 255"
   ]
  },
  {
   "cell_type": "code",
   "execution_count": 6,
   "id": "3aa11c2e-a95c-4371-a820-6571360e07ec",
   "metadata": {},
   "outputs": [],
   "source": [
    "# Hyperparameter\n",
    "batch_size = 128\n",
    "hidn_units = 256\n",
    "dropout = 0.45"
   ]
  },
  {
   "cell_type": "code",
   "execution_count": 7,
   "id": "8303e7cd-d348-48d0-a0e4-49a0eeeb02b8",
   "metadata": {},
   "outputs": [
    {
     "name": "stdout",
     "output_type": "stream",
     "text": [
      "Model: \"sequential\"\n",
      "_________________________________________________________________\n",
      " Layer (type)                Output Shape              Param #   \n",
      "=================================================================\n",
      " dense (Dense)               (None, 256)               200960    \n",
      "                                                                 \n",
      " activation (Activation)     (None, 256)               0         \n",
      "                                                                 \n",
      " dropout (Dropout)           (None, 256)               0         \n",
      "                                                                 \n",
      " dense_1 (Dense)             (None, 256)               65792     \n",
      "                                                                 \n",
      " activation_1 (Activation)   (None, 256)               0         \n",
      "                                                                 \n",
      " dense_2 (Dense)             (None, 10)                2570      \n",
      "                                                                 \n",
      " activation_2 (Activation)   (None, 10)                0         \n",
      "                                                                 \n",
      "=================================================================\n",
      "Total params: 269,322\n",
      "Trainable params: 269,322\n",
      "Non-trainable params: 0\n",
      "_________________________________________________________________\n"
     ]
    }
   ],
   "source": [
    "model = Sequential()\n",
    "model.add( Dense(hidn_units, input_dim=inpt_size) )\n",
    "model.add( Activation('relu') )\n",
    "model.add( Dropout(dropout) )\n",
    "model.add( Dense(hidn_units) )\n",
    "model.add( Activation('relu') )\n",
    "model.add( Dense(num_labels) )\n",
    "# Softmax\n",
    "model.add( Activation('softmax') )\n",
    "# Summary of Model\n",
    "model.summary()"
   ]
  },
  {
   "cell_type": "code",
   "execution_count": 14,
   "id": "e6493bb4-c73e-4704-b151-ec078f361ab6",
   "metadata": {},
   "outputs": [
    {
     "name": "stdout",
     "output_type": "stream",
     "text": [
      "You must install pydot (`pip install pydot`) and install graphviz (see instructions at https://graphviz.gitlab.io/download/) for plot_model/model_to_dot to work.\n"
     ]
    }
   ],
   "source": [
    "plot_model(model, to_file='mlp-mnist.png', show_shapes=True)"
   ]
  },
  {
   "cell_type": "code",
   "execution_count": 9,
   "id": "449585a2-cdf9-4b13-90b0-9195de0b6be7",
   "metadata": {},
   "outputs": [],
   "source": [
    "model.compile(loss='categorical_crossentropy', optimizer='adam', metrics=['accuracy'])"
   ]
  },
  {
   "cell_type": "code",
   "execution_count": 10,
   "id": "b60efb98-8013-4a17-b24c-822351c04aff",
   "metadata": {},
   "outputs": [
    {
     "name": "stdout",
     "output_type": "stream",
     "text": [
      "Epoch 1/20\n",
      "469/469 [==============================] - 4s 6ms/step - loss: 0.3518 - accuracy: 0.8951\n",
      "Epoch 2/20\n",
      "469/469 [==============================] - 3s 6ms/step - loss: 0.1605 - accuracy: 0.9520\n",
      "Epoch 3/20\n",
      "469/469 [==============================] - 3s 6ms/step - loss: 0.1251 - accuracy: 0.9610\n",
      "Epoch 4/20\n",
      "469/469 [==============================] - 3s 5ms/step - loss: 0.1052 - accuracy: 0.9671\n",
      "Epoch 5/20\n",
      "469/469 [==============================] - 3s 6ms/step - loss: 0.0925 - accuracy: 0.9702\n",
      "Epoch 6/20\n",
      "469/469 [==============================] - 3s 5ms/step - loss: 0.0846 - accuracy: 0.9725\n",
      "Epoch 7/20\n",
      "469/469 [==============================] - 3s 5ms/step - loss: 0.0741 - accuracy: 0.9761\n",
      "Epoch 8/20\n",
      "469/469 [==============================] - 3s 6ms/step - loss: 0.0710 - accuracy: 0.9773\n",
      "Epoch 9/20\n",
      "469/469 [==============================] - 3s 5ms/step - loss: 0.0630 - accuracy: 0.9798\n",
      "Epoch 10/20\n",
      "469/469 [==============================] - 3s 6ms/step - loss: 0.0624 - accuracy: 0.9794\n",
      "Epoch 11/20\n",
      "469/469 [==============================] - 3s 6ms/step - loss: 0.0563 - accuracy: 0.9812\n",
      "Epoch 12/20\n",
      "469/469 [==============================] - 3s 5ms/step - loss: 0.0542 - accuracy: 0.9822\n",
      "Epoch 13/20\n",
      "469/469 [==============================] - 3s 6ms/step - loss: 0.0526 - accuracy: 0.9824\n",
      "Epoch 14/20\n",
      "469/469 [==============================] - 3s 6ms/step - loss: 0.0485 - accuracy: 0.9833\n",
      "Epoch 15/20\n",
      "469/469 [==============================] - 3s 6ms/step - loss: 0.0473 - accuracy: 0.9842\n",
      "Epoch 16/20\n",
      "469/469 [==============================] - 3s 6ms/step - loss: 0.0475 - accuracy: 0.9843\n",
      "Epoch 17/20\n",
      "469/469 [==============================] - 3s 6ms/step - loss: 0.0427 - accuracy: 0.9857\n",
      "Epoch 18/20\n",
      "469/469 [==============================] - 3s 5ms/step - loss: 0.0427 - accuracy: 0.9854\n",
      "Epoch 19/20\n",
      "469/469 [==============================] - 3s 5ms/step - loss: 0.0402 - accuracy: 0.9861\n",
      "Epoch 20/20\n",
      "469/469 [==============================] - 3s 6ms/step - loss: 0.0395 - accuracy: 0.9873\n"
     ]
    },
    {
     "data": {
      "text/plain": [
       "<keras.callbacks.History at 0x20174b3c490>"
      ]
     },
     "execution_count": 10,
     "metadata": {},
     "output_type": "execute_result"
    }
   ],
   "source": [
    "model.fit(x_train, y_train, epochs=20, batch_size=batch_size)"
   ]
  },
  {
   "cell_type": "code",
   "execution_count": 11,
   "id": "55fc4803-6df5-44ba-8ed5-c6aa125d1812",
   "metadata": {},
   "outputs": [
    {
     "name": "stdout",
     "output_type": "stream",
     "text": [
      "[0.06308760493993759, 0.984000027179718, 0.06308760493993759, 0.984000027179718, 0.06308760493993759, 0.984000027179718, 0.06308760493993759, 0.984000027179718, 0.06308760493993759, 0.984000027179718, 0.06308760493993759, 0.984000027179718, 0.06308760493993759, 0.984000027179718, 0.06308760493993759, 0.984000027179718, 0.06308760493993759, 0.984000027179718, 0.06308760493993759, 0.984000027179718, 0.06308760493993759, 0.984000027179718, 0.06308760493993759, 0.984000027179718, 0.06308760493993759, 0.984000027179718, 0.06308760493993759, 0.984000027179718, 0.06308760493993759, 0.984000027179718, 0.06308760493993759, 0.984000027179718, 0.06308760493993759, 0.984000027179718, 0.06308760493993759, 0.984000027179718, 0.06308760493993759, 0.984000027179718, 0.06308760493993759, 0.984000027179718, 0.06308760493993759, 0.984000027179718, 0.06308760493993759, 0.984000027179718, 0.06308760493993759, 0.984000027179718, 0.06308760493993759, 0.984000027179718, 0.06308760493993759, 0.984000027179718, 0.06308760493993759, 0.984000027179718, 0.06308760493993759, 0.984000027179718, 0.06308760493993759, 0.984000027179718, 0.06308760493993759, 0.984000027179718, 0.06308760493993759, 0.984000027179718, 0.06308760493993759, 0.984000027179718, 0.06308760493993759, 0.984000027179718, 0.06308760493993759, 0.984000027179718, 0.06308760493993759, 0.984000027179718, 0.06308760493993759, 0.984000027179718, 0.06308760493993759, 0.984000027179718, 0.06308760493993759, 0.984000027179718, 0.06308760493993759, 0.984000027179718, 0.06308760493993759, 0.984000027179718, 0.06308760493993759, 0.984000027179718, 0.06308760493993759, 0.984000027179718, 0.06308760493993759, 0.984000027179718, 0.06308760493993759, 0.984000027179718, 0.06308760493993759, 0.984000027179718, 0.06308760493993759, 0.984000027179718, 0.06308760493993759, 0.984000027179718, 0.06308760493993759, 0.984000027179718, 0.06308760493993759, 0.984000027179718, 0.06308760493993759, 0.984000027179718, 0.06308760493993759, 0.984000027179718, 0.06308760493993759, 0.984000027179718, 0.06308760493993759, 0.984000027179718, 0.06308760493993759, 0.984000027179718, 0.06308760493993759, 0.984000027179718, 0.06308760493993759, 0.984000027179718, 0.06308760493993759, 0.984000027179718, 0.06308760493993759, 0.984000027179718, 0.06308760493993759, 0.984000027179718, 0.06308760493993759, 0.984000027179718, 0.06308760493993759, 0.984000027179718, 0.06308760493993759, 0.984000027179718, 0.06308760493993759, 0.984000027179718, 0.06308760493993759, 0.984000027179718, 0.06308760493993759, 0.984000027179718, 0.06308760493993759, 0.984000027179718, 0.06308760493993759, 0.984000027179718, 0.06308760493993759, 0.984000027179718, 0.06308760493993759, 0.984000027179718, 0.06308760493993759, 0.984000027179718, 0.06308760493993759, 0.984000027179718, 0.06308760493993759, 0.984000027179718, 0.06308760493993759, 0.984000027179718, 0.06308760493993759, 0.984000027179718, 0.06308760493993759, 0.984000027179718, 0.06308760493993759, 0.984000027179718, 0.06308760493993759, 0.984000027179718, 0.06308760493993759, 0.984000027179718, 0.06308760493993759, 0.984000027179718, 0.06308760493993759, 0.984000027179718, 0.06308760493993759, 0.984000027179718, 0.06308760493993759, 0.984000027179718, 0.06308760493993759, 0.984000027179718, 0.06308760493993759, 0.984000027179718, 0.06308760493993759, 0.984000027179718, 0.06308760493993759, 0.984000027179718, 0.06308760493993759, 0.984000027179718, 0.06308760493993759, 0.984000027179718, 0.06308760493993759, 0.984000027179718, 0.06308760493993759, 0.984000027179718, 0.06308760493993759, 0.984000027179718, 0.06308760493993759, 0.984000027179718, 0.06308760493993759, 0.984000027179718, 0.06308760493993759, 0.984000027179718, 0.06308760493993759, 0.984000027179718, 0.06308760493993759, 0.984000027179718, 0.06308760493993759, 0.984000027179718, 0.06308760493993759, 0.984000027179718, 0.06308760493993759, 0.984000027179718, 0.06308760493993759, 0.984000027179718, 0.06308760493993759, 0.984000027179718]\n"
     ]
    }
   ],
   "source": [
    "print( model.evaluate(x_test, y_test, batch_size=batch_size, verbose=0) * 100 )"
   ]
  }
 ],
 "metadata": {
  "kernelspec": {
   "display_name": "Python 3 (ipykernel)",
   "language": "python",
   "name": "python3"
  },
  "language_info": {
   "codemirror_mode": {
    "name": "ipython",
    "version": 3
   },
   "file_extension": ".py",
   "mimetype": "text/x-python",
   "name": "python",
   "nbconvert_exporter": "python",
   "pygments_lexer": "ipython3",
   "version": "3.10.4"
  }
 },
 "nbformat": 4,
 "nbformat_minor": 5
}
